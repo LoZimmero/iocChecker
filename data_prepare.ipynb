{
 "cells": [
  {
   "cell_type": "code",
   "execution_count": 1,
   "metadata": {},
   "outputs": [],
   "source": [
    "import pandas as pd\n",
    "import os\n",
    "\n",
    "files = os.listdir('Sep_2022')\n",
    "\n",
    "df = pd.read_csv(f'Sep_2022/{files[0]}', sep=',', header=None)\n",
    "df.head()\n",
    "\n",
    "full_df = df\n",
    "progressive = 1\n",
    "for i in range(1,len(files)):\n",
    "    df = pd.read_csv(f'Sep_2022/{files[i]}', sep=',', header=None)\n",
    "    full_df = pd.concat([full_df, df])\n",
    "\n",
    "full_df.head()\n",
    "full_df.shape\n",
    "\n",
    "i=0\n",
    "while len(full_df) > 0:\n",
    "    sub_df = full_df.head(min(200, len(full_df)))\n",
    "    full_df = full_df.iloc[min(200, len(full_df)):]\n",
    "    sub_df.to_csv(f'preparedSept2022/part{i}.csv', sep=',', header=None, index=False)\n",
    "    i+=1"
   ]
  }
 ],
 "metadata": {
  "kernelspec": {
   "display_name": "Python 3.10.8 64-bit",
   "language": "python",
   "name": "python3"
  },
  "language_info": {
   "codemirror_mode": {
    "name": "ipython",
    "version": 3
   },
   "file_extension": ".py",
   "mimetype": "text/x-python",
   "name": "python",
   "nbconvert_exporter": "python",
   "pygments_lexer": "ipython3",
   "version": "3.10.8"
  },
  "orig_nbformat": 4,
  "vscode": {
   "interpreter": {
    "hash": "ac81770a3a29c39d16e6d82609ba45379347357e220a96a7899b7cd90d76ca65"
   }
  }
 },
 "nbformat": 4,
 "nbformat_minor": 2
}
